{
 "cells": [
  {
   "cell_type": "code",
   "execution_count": 2,
   "metadata": {},
   "outputs": [],
   "source": [
    "import matplotlib.pyplot as plt\n",
    "import numpy as np\n",
    "import time\n",
    "import datetime as dt\n",
    "import pandas as pd\n",
    "# Import datasets, classifiers and performance metrics\n",
    "from sklearn import datasets, svm, metrics\n"
   ]
  },
  {
   "cell_type": "code",
   "execution_count": 2,
   "metadata": {},
   "outputs": [],
   "source": [
    "#from sklearn.cross_validation import train_test_split"
   ]
  },
  {
   "cell_type": "code",
   "execution_count": 3,
   "metadata": {},
   "outputs": [],
   "source": [
    "train_data=pd.read_csv('mnist_train.csv')\n",
    "test_data=pd.read_csv('mnist_test.csv')"
   ]
  },
  {
   "cell_type": "code",
   "execution_count": 4,
   "metadata": {},
   "outputs": [
    {
     "name": "stdout",
     "output_type": "stream",
     "text": [
      "(59999, 784)\n",
      "[0 4 1 ... 5 6 8]\n",
      "(9999, 784)\n",
      "[2 1 0 ... 4 5 6]\n"
     ]
    }
   ],
   "source": [
    "train_images = train_data.iloc[:,1:].values\n",
    "train_images = train_images.astype(np.float)\n",
    "print(train_images.shape)\n",
    "# For labels\n",
    "train_labels_flat = train_data[['5']].values.ravel()\n",
    "train_labels_count = np.unique(train_labels_flat).shape[0]\n",
    "train_images=train_images/255\n",
    "print(train_labels_flat)\n",
    "\n",
    "test_images = test_data.iloc[:,1:].values\n",
    "test_images = test_images.astype(np.float)\n",
    "print(test_images.shape)\n",
    "# For labels\n",
    "test_labels_flat = test_data[['7']].values.ravel()\n",
    "test_labels_count = np.unique(test_labels_flat).shape[0]\n",
    "test_images=test_images/255\n",
    "print(test_labels_flat)"
   ]
  },
  {
   "cell_type": "code",
   "execution_count": 5,
   "metadata": {},
   "outputs": [],
   "source": [
    "small_train_x=[]\n",
    "small_train_y=[]\n",
    "for i in range(0,4999):\n",
    "    small_train_x.append(train_images[i])\n",
    "    small_train_y.append(train_labels_flat[i])\n",
    "small_test_x=[]\n",
    "small_test_y=[]\n",
    "for i in range(5000,5499):\n",
    "    small_test_x.append(train_images[i])\n",
    "    small_test_y.append(train_labels_flat[i])\n",
    "small_train_y=np.array(small_train_y)\n",
    "small_train_x=np.array(small_train_x)\n",
    "small_test_y=np.array(small_test_y)\n",
    "small_test_x=np.array(small_test_x)"
   ]
  },
  {
   "cell_type": "code",
   "execution_count": 6,
   "metadata": {},
   "outputs": [],
   "source": [
    "features = train_data.columns[1:]\n",
    "x_train=train_data[features]\n",
    "\n",
    "features = test_data.columns[1:]\n",
    "x_test=test_data[features]\n",
    "y_train=train_data['5']\n",
    "y_test=test_data['7']"
   ]
  },
  {
   "cell_type": "code",
   "execution_count": 7,
   "metadata": {},
   "outputs": [],
   "source": [
    "\n",
    "#x_train, x_test, y_train, y_test = train_test_split(x_train, y_train,\n",
    "#                                                            test_size=0.10,\n",
    "#                                                            random_state=42)"
   ]
  },
  {
   "cell_type": "code",
   "execution_count": 8,
   "metadata": {},
   "outputs": [
    {
     "name": "stdout",
     "output_type": "stream",
     "text": [
      "Start learning at 2018-11-07 15:40:23.139173\n",
      "Stop learning 2018-11-07 15:45:41.569431\n",
      "Elapsed learning 0:05:18.430258\n"
     ]
    }
   ],
   "source": [
    "\n",
    "param_C = 200\n",
    "param_gamma = 0.01\n",
    "classifier = svm.SVC( kernel=\"rbf\",C=param_C,gamma=param_gamma)\n",
    "\n",
    "# We learn the digits on train part\n",
    "start_time = dt.datetime.now()\n",
    "print('Start learning at {}'.format(str(start_time)))\n",
    "classifier.fit(train_images, train_labels_flat)\n",
    "end_time = dt.datetime.now() \n",
    "print('Stop learning {}'.format(str(end_time)))\n",
    "elapsed_time= end_time - start_time\n",
    "print('Elapsed learning {}'.format(str(elapsed_time)))"
   ]
  },
  {
   "cell_type": "code",
   "execution_count": 9,
   "metadata": {
    "scrolled": true
   },
   "outputs": [
    {
     "name": "stdout",
     "output_type": "stream",
     "text": [
      "Classification report for classifier SVC(C=200, cache_size=200, class_weight=None, coef0=0.0,\n",
      "  decision_function_shape='ovr', degree=3, gamma=0.01, kernel='rbf',\n",
      "  max_iter=-1, probability=False, random_state=None, shrinking=True,\n",
      "  tol=0.001, verbose=False):\n",
      "             precision    recall  f1-score   support\n",
      "\n",
      "          0       0.98      0.99      0.99       980\n",
      "          1       0.99      0.99      0.99      1135\n",
      "          2       0.98      0.98      0.98      1032\n",
      "          3       0.98      0.98      0.98      1010\n",
      "          4       0.98      0.98      0.98       982\n",
      "          5       0.98      0.98      0.98       892\n",
      "          6       0.99      0.99      0.99       958\n",
      "          7       0.98      0.98      0.98      1027\n",
      "          8       0.98      0.98      0.98       974\n",
      "          9       0.97      0.97      0.97      1009\n",
      "\n",
      "avg / total       0.98      0.98      0.98      9999\n",
      "\n",
      "\n",
      "Confusion matrix:\n",
      "[[ 973    0    2    0    0    2    0    1    2    0]\n",
      " [   0 1129    3    0    0    1    0    1    1    0]\n",
      " [   5    1 1013    0    1    0    1    7    4    0]\n",
      " [   0    0    2  994    0    2    0    3    5    4]\n",
      " [   0    0    4    0  966    0    2    0    0   10]\n",
      " [   3    0    0    9    1  871    3    0    3    2]\n",
      " [   5    2    0    0    2    3  944    0    2    0]\n",
      " [   0    7    9    2    1    0    0 1002    0    6]\n",
      " [   3    0    2    3    3    3    1    2  953    4]\n",
      " [   2    5    0    6    9    4    0    4    1  978]]\n",
      "Accuracy=0.9823982398239824\n"
     ]
    }
   ],
   "source": [
    "# Now predict the value of the test\n",
    "expected = test_labels_flat\n",
    "predicted = classifier.predict(test_images)\n",
    "\n",
    "print(\"Classification report for classifier %s:\\n%s\\n\"\n",
    "      % (classifier, metrics.classification_report(expected, predicted)))\n",
    "      \n",
    "cm = metrics.confusion_matrix(expected, predicted)\n",
    "print(\"Confusion matrix:\\n%s\" % cm)\n",
    "\n",
    "#plot_confusion_matrix(cm)\n",
    "\n",
    "print(\"Accuracy={}\".format(metrics.accuracy_score(expected, predicted)))\n",
    "\n",
    "\n"
   ]
  },
  {
   "cell_type": "code",
   "execution_count": 18,
   "metadata": {},
   "outputs": [
    {
     "name": "stdout",
     "output_type": "stream",
     "text": [
      "5.0\n",
      "[ 0.1  0.5  1.   5.  10.  50. ]\n"
     ]
    }
   ],
   "source": [
    "gamma_range = np.outer(np.logspace(-3, 0, 4),np.array([1,5]))\n",
    "gamma_range = gamma_range.flatten()\n",
    "\n",
    "# generate matrix with all C\n",
    "#C_range = np.outer(np.logspace(-3, 3, 7),np.array([1,2, 5]))\n",
    "C_range = np.outer(np.logspace(-1, 1, 3),np.array([1,5]))\n",
    "# flatten matrix, change to 1D numpy array\n",
    "C_range = C_range.flatten()\n",
    "\n",
    "print(gamma_range[7])\n",
    "print(C_range)"
   ]
  }
 ],
 "metadata": {
  "kernelspec": {
   "display_name": "Python 3",
   "language": "python",
   "name": "python3"
  },
  "language_info": {
   "codemirror_mode": {
    "name": "ipython",
    "version": 3
   },
   "file_extension": ".py",
   "mimetype": "text/x-python",
   "name": "python",
   "nbconvert_exporter": "python",
   "pygments_lexer": "ipython3",
   "version": "3.7.0"
  }
 },
 "nbformat": 4,
 "nbformat_minor": 2
}
