{
 "cells": [
  {
   "cell_type": "code",
   "execution_count": 1,
   "metadata": {},
   "outputs": [],
   "source": [
    "import numpy as np\n",
    "from sklearn import tree\n",
    "from sklearn.model_selection import train_test_split\n",
    "from sklearn.model_selection import KFold"
   ]
  },
  {
   "cell_type": "code",
   "execution_count": 2,
   "metadata": {},
   "outputs": [],
   "source": [
    "from sklearn.tree import export_graphviz\n",
    "import graphviz"
   ]
  },
  {
   "cell_type": "code",
   "execution_count": 3,
   "metadata": {},
   "outputs": [],
   "source": [
    "import matplotlib.pyplot as plt"
   ]
  },
  {
   "cell_type": "code",
   "execution_count": 4,
   "metadata": {},
   "outputs": [],
   "source": [
    "data=np.genfromtxt('mnist_train.csv',delimiter=',')\n",
    "test=np.genfromtxt('mnist_test.csv',delimiter=',')"
   ]
  },
  {
   "cell_type": "code",
   "execution_count": 6,
   "metadata": {},
   "outputs": [],
   "source": [
    "d_input=data[:,1:]\n",
    "d_label=data[:,0]\n",
    "test_input=test[:,1:]\n",
    "test_label=test[:,0]"
   ]
  },
  {
   "cell_type": "code",
   "execution_count": 33,
   "metadata": {},
   "outputs": [],
   "source": [
    "t_input,cv_input,t_label,cv_label=train_test_split(d_input,d_label,test_size=0.25,random_state=0)"
   ]
  },
  {
   "cell_type": "markdown",
   "metadata": {},
   "source": [
    "# varying max depth,min_sample_split on gini criterion On CART"
   ]
  },
  {
   "cell_type": "code",
   "execution_count": 6,
   "metadata": {},
   "outputs": [
    {
     "data": {
      "text/plain": [
       "0.8642"
      ]
     },
     "execution_count": 6,
     "metadata": {},
     "output_type": "execute_result"
    }
   ],
   "source": [
    "Dtree=DecisionTreeClassifier()\n",
    "Dtree.fit(t_input,t_label)\n",
    "Dtree.score(cv_input,cv_label)"
   ]
  },
  {
   "cell_type": "code",
   "execution_count": 9,
   "metadata": {},
   "outputs": [
    {
     "data": {
      "text/plain": [
       "'Source.gv.pdf'"
      ]
     },
     "execution_count": 9,
     "metadata": {},
     "output_type": "execute_result"
    }
   ],
   "source": [
    "dot_data = tree.export_graphviz(Dtree, out_file=None) \n",
    "graph = graphviz.Source(dot_data) \n",
    "graph.render() "
   ]
  },
  {
   "cell_type": "code",
   "execution_count": 11,
   "metadata": {},
   "outputs": [
    {
     "data": {
      "text/plain": [
       "0.617"
      ]
     },
     "execution_count": 11,
     "metadata": {},
     "output_type": "execute_result"
    }
   ],
   "source": [
    "Dtree=DecisionTreeClassifier(max_depth=15,min_samples_split=0.10)\n",
    "Dtree.fit(t_input,t_label)\n",
    "Dtree.score(cv_input,cv_label)"
   ]
  },
  {
   "cell_type": "code",
   "execution_count": 12,
   "metadata": {},
   "outputs": [
    {
     "data": {
      "text/plain": [
       "0.8672666666666666"
      ]
     },
     "execution_count": 12,
     "metadata": {},
     "output_type": "execute_result"
    }
   ],
   "source": [
    "Dtree=DecisionTreeClassifier(max_depth=15,min_samples_split=5)\n",
    "Dtree.fit(t_input,t_label)\n",
    "Dtree.score(cv_input,cv_label)"
   ]
  },
  {
   "cell_type": "code",
   "execution_count": 10,
   "metadata": {},
   "outputs": [
    {
     "name": "stdout",
     "output_type": "stream",
     "text": [
      "0.8671333333333333\n"
     ]
    },
    {
     "data": {
      "text/plain": [
       "<matplotlib.image.AxesImage at 0x25314d22908>"
      ]
     },
     "execution_count": 10,
     "metadata": {},
     "output_type": "execute_result"
    },
    {
     "data": {
      "image/png": "[encoded data removed]",
      "text/plain": [
       "<Figure size 288x288 with 1 Axes>"
      ]
     },
     "metadata": {
      "needs_background": "light"
     },
     "output_type": "display_data"
    }
   ],
   "source": [
    "Dtree=tree.DecisionTreeClassifier(max_depth=15)\n",
    "Dtree.fit(t_input,t_label)\n",
    "print(Dtree.score(cv_input,cv_label))\n",
    "importance=Dtree.feature_importances_\n",
    "plt.matshow(importance.reshape(28,28))"
   ]
  },
  {
   "cell_type": "markdown",
   "metadata": {},
   "source": [
    "# varying max depth,min_sample_split on entropy criterion"
   ]
  },
  {
   "cell_type": "code",
   "execution_count": 14,
   "metadata": {},
   "outputs": [
    {
     "data": {
      "text/plain": [
       "0.8674666666666667"
      ]
     },
     "execution_count": 14,
     "metadata": {},
     "output_type": "execute_result"
    }
   ],
   "source": [
    "Dtree=DecisionTreeClassifier(criterion='entropy')\n",
    "Dtree.fit(t_input,t_label)\n",
    "Dtree.score(cv_input,cv_label)"
   ]
  },
  {
   "cell_type": "code",
   "execution_count": 15,
   "metadata": {},
   "outputs": [
    {
     "data": {
      "text/plain": [
       "0.8684"
      ]
     },
     "execution_count": 15,
     "metadata": {},
     "output_type": "execute_result"
    }
   ],
   "source": [
    "Dtree=DecisionTreeClassifier(criterion='entropy',max_depth=15)\n",
    "Dtree.fit(t_input,t_label)\n",
    "Dtree.score(cv_input,cv_label)"
   ]
  },
  {
   "cell_type": "code",
   "execution_count": 16,
   "metadata": {},
   "outputs": [
    {
     "data": {
      "text/plain": [
       "0.8682666666666666"
      ]
     },
     "execution_count": 16,
     "metadata": {},
     "output_type": "execute_result"
    }
   ],
   "source": [
    "Dtree=DecisionTreeClassifier(criterion='entropy',max_depth=32)\n",
    "Dtree.fit(t_input,t_label)\n",
    "Dtree.score(cv_input,cv_label)"
   ]
  },
  {
   "cell_type": "code",
   "execution_count": 17,
   "metadata": {},
   "outputs": [
    {
     "data": {
      "text/plain": [
       "0.8607333333333334"
      ]
     },
     "execution_count": 17,
     "metadata": {},
     "output_type": "execute_result"
    }
   ],
   "source": [
    "Dtree=DecisionTreeClassifier(criterion='entropy',max_depth=10)\n",
    "Dtree.fit(t_input,t_label)\n",
    "Dtree.score(cv_input,cv_label)"
   ]
  },
  {
   "cell_type": "markdown",
   "metadata": {},
   "source": [
    "# Varying  on gini criterion"
   ]
  },
  {
   "cell_type": "markdown",
   "metadata": {},
   "source": [
    "## varing max_depth(GINI)"
   ]
  },
  {
   "cell_type": "markdown",
   "metadata": {},
   "source": []
  },
  {
   "cell_type": "code",
   "execution_count": 34,
   "metadata": {},
   "outputs": [
    {
     "name": "stdout",
     "output_type": "stream",
     "text": [
      "0.8684666666666667\n",
      "14\n"
     ]
    }
   ],
   "source": [
    "maxScore=0\n",
    "max_i=-1\n",
    "for i in range(2,50):\n",
    "    Dtree=tree.DecisionTreeClassifier(max_depth=i, random_state=0)\n",
    "    Dtree.fit(t_input,t_label)\n",
    "    score=Dtree.score(cv_input,cv_label)\n",
    "    if(score>maxScore):\n",
    "        maxScore=score\n",
    "        max_i=i\n",
    "print(maxScore)\n",
    "print(max_i)"
   ]
  },
  {
   "cell_type": "markdown",
   "metadata": {},
   "source": [
    "## varing min_sample_split from 0.001 to 0.01 , max_depth=14(GINI)"
   ]
  },
  {
   "cell_type": "code",
   "execution_count": 37,
   "metadata": {},
   "outputs": [],
   "source": [
    "maxScore=0\n",
    "max_i=-1\n",
    "i=0.001\n",
    "while i<= 0.01:\n",
    "    Dtree=tree.DecisionTreeClassifier(max_depth=14,min_samples_split=i, random_state=0)\n",
    "    Dtree.fit(t_input,t_label)\n",
    "    score=Dtree.score(cv_input,cv_label)\n",
    "    if(score>maxScore):\n",
    "        maxScore=score\n",
    "        max_i=i\n",
    "    i=i+0.001"
   ]
  },
  {
   "cell_type": "code",
   "execution_count": 38,
   "metadata": {},
   "outputs": [
    {
     "name": "stdout",
     "output_type": "stream",
     "text": [
      "0.8543333333333333\n",
      "0.001\n"
     ]
    }
   ],
   "source": [
    "print(maxScore)\n",
    "print(max_i)"
   ]
  },
  {
   "cell_type": "markdown",
   "metadata": {},
   "source": [
    "## varing min_sample_split from 2 to 50 , max_depth=14(GINI)"
   ]
  },
  {
   "cell_type": "code",
   "execution_count": 39,
   "metadata": {},
   "outputs": [],
   "source": [
    "maxScore=0\n",
    "max_i=-1\n",
    "for i in range(2,50):\n",
    "    Dtree=tree.DecisionTreeClassifier(max_depth=14,min_samples_split=i, random_state=0)\n",
    "    Dtree.fit(t_input,t_label)\n",
    "    score=Dtree.score(cv_input,cv_label)\n",
    "    if(score>maxScore):\n",
    "        maxScore=score\n",
    "        max_i=i"
   ]
  },
  {
   "cell_type": "code",
   "execution_count": 41,
   "metadata": {},
   "outputs": [
    {
     "name": "stdout",
     "output_type": "stream",
     "text": [
      "0.8684666666666667\n",
      "2\n"
     ]
    }
   ],
   "source": [
    "print(maxScore)\n",
    "print(max_i)"
   ]
  },
  {
   "cell_type": "markdown",
   "metadata": {},
   "source": [
    "## varing min_sample_leaf from 1 to 50, min_sample_split=2 , max_depth=14(GINI)"
   ]
  },
  {
   "cell_type": "code",
   "execution_count": 42,
   "metadata": {},
   "outputs": [],
   "source": [
    "maxScore=0\n",
    "max_i=-1\n",
    "for i in range(1,50):\n",
    "    Dtree=tree.DecisionTreeClassifier(max_depth=14,min_samples_split=2, min_samples_leaf=i, random_state=0)\n",
    "    Dtree.fit(t_input,t_label)\n",
    "    score=Dtree.score(cv_input,cv_label)\n",
    "    if(score>maxScore):\n",
    "        maxScore=score\n",
    "        max_i=i"
   ]
  },
  {
   "cell_type": "code",
   "execution_count": 43,
   "metadata": {},
   "outputs": [
    {
     "name": "stdout",
     "output_type": "stream",
     "text": [
      "0.8684666666666667\n",
      "1\n"
     ]
    }
   ],
   "source": [
    "print(maxScore)\n",
    "print(max_i)"
   ]
  },
  {
   "cell_type": "markdown",
   "metadata": {},
   "source": [
    "## GINI-max_depth=14,min_sample_split=2,min_sample_leaf=1(TEST)"
   ]
  },
  {
   "cell_type": "code",
   "execution_count": 13,
   "metadata": {},
   "outputs": [
    {
     "data": {
      "text/plain": [
       "DecisionTreeClassifier(class_weight=None, criterion='gini', max_depth=14,\n",
       "            max_features=None, max_leaf_nodes=None,\n",
       "            min_impurity_decrease=0.0, min_impurity_split=None,\n",
       "            min_samples_leaf=1, min_samples_split=2,\n",
       "            min_weight_fraction_leaf=0.0, presort=False, random_state=0,\n",
       "            splitter='best')"
      ]
     },
     "execution_count": 13,
     "metadata": {},
     "output_type": "execute_result"
    }
   ],
   "source": [
    "Dtree=tree.DecisionTreeClassifier(max_depth=14,min_samples_split=2, min_samples_leaf=1, random_state=0)\n",
    "Dtree.fit(d_input,d_label)"
   ]
  },
  {
   "cell_type": "code",
   "execution_count": 14,
   "metadata": {},
   "outputs": [
    {
     "data": {
      "text/plain": [
       "0.8822"
      ]
     },
     "execution_count": 14,
     "metadata": {},
     "output_type": "execute_result"
    }
   ],
   "source": [
    "Dtree.score(test_input,test_label)"
   ]
  },
  {
   "cell_type": "markdown",
   "metadata": {},
   "source": [
    "## using default of SKLEARN on TEST"
   ]
  },
  {
   "cell_type": "code",
   "execution_count": 48,
   "metadata": {},
   "outputs": [
    {
     "data": {
      "text/plain": [
       "0.8781"
      ]
     },
     "execution_count": 48,
     "metadata": {},
     "output_type": "execute_result"
    }
   ],
   "source": [
    "Dtree=tree.DecisionTreeClassifier(random_state=0)\n",
    "Dtree.fit(d_input,d_label)\n",
    "Dtree.score(test_input,test_label)"
   ]
  },
  {
   "cell_type": "markdown",
   "metadata": {},
   "source": [
    "# Varying  on Entropy criterion"
   ]
  },
  {
   "cell_type": "markdown",
   "metadata": {},
   "source": [
    "## using default of SKLEARN on TEST"
   ]
  },
  {
   "cell_type": "code",
   "execution_count": 49,
   "metadata": {},
   "outputs": [
    {
     "data": {
      "text/plain": [
       "0.8864"
      ]
     },
     "execution_count": 49,
     "metadata": {},
     "output_type": "execute_result"
    }
   ],
   "source": [
    "Dtree=tree.DecisionTreeClassifier(criterion='entropy', random_state=0)\n",
    "Dtree.fit(d_input,d_label)\n",
    "Dtree.score(test_input,test_label)"
   ]
  },
  {
   "cell_type": "markdown",
   "metadata": {},
   "source": [
    "## varing max_depth(ENTROPY)"
   ]
  },
  {
   "cell_type": "code",
   "execution_count": 50,
   "metadata": {},
   "outputs": [
    {
     "name": "stdout",
     "output_type": "stream",
     "text": [
      "0.8738\n",
      "14\n"
     ]
    }
   ],
   "source": [
    "maxScore=0\n",
    "max_i=-1\n",
    "for i in range(2,50):\n",
    "    Dtree=tree.DecisionTreeClassifier(max_depth=i, random_state=0, criterion='entropy')\n",
    "    Dtree.fit(t_input,t_label)\n",
    "    score=Dtree.score(cv_input,cv_label)\n",
    "    if(score>maxScore):\n",
    "        maxScore=score\n",
    "        max_i=i\n",
    "print(maxScore)\n",
    "print(max_i)"
   ]
  },
  {
   "cell_type": "markdown",
   "metadata": {},
   "source": [
    "## varing min_sample_split from 2 to 50 , max_depth=14(ENTROPY)"
   ]
  },
  {
   "cell_type": "code",
   "execution_count": 51,
   "metadata": {},
   "outputs": [
    {
     "name": "stdout",
     "output_type": "stream",
     "text": [
      "0.8757333333333334\n",
      "5\n"
     ]
    }
   ],
   "source": [
    "maxScore=0\n",
    "max_i=-1\n",
    "for i in range(2,50):\n",
    "    Dtree=tree.DecisionTreeClassifier(max_depth=14, random_state=0, criterion='entropy', min_samples_split=i)\n",
    "    Dtree.fit(t_input,t_label)\n",
    "    score=Dtree.score(cv_input,cv_label)\n",
    "    if(score>maxScore):\n",
    "        maxScore=score\n",
    "        max_i=i\n",
    "print(maxScore)\n",
    "print(max_i)"
   ]
  },
  {
   "cell_type": "markdown",
   "metadata": {},
   "source": [
    "## varing min_sample_leaf from 1 to 50, min_sample_split=5 , max_depth=14(ENTROPY)"
   ]
  },
  {
   "cell_type": "code",
   "execution_count": 52,
   "metadata": {},
   "outputs": [
    {
     "name": "stdout",
     "output_type": "stream",
     "text": [
      "0.8742666666666666\n",
      "4\n"
     ]
    }
   ],
   "source": [
    "maxScore=0\n",
    "max_i=-1\n",
    "for i in range(2,50):\n",
    "    Dtree=tree.DecisionTreeClassifier(max_depth=14, random_state=0, criterion='entropy', min_samples_split=5, min_samples_leaf=i)\n",
    "    Dtree.fit(t_input,t_label)\n",
    "    score=Dtree.score(cv_input,cv_label)\n",
    "    if(score>maxScore):\n",
    "        maxScore=score\n",
    "        max_i=i\n",
    "print(maxScore)\n",
    "print(max_i)"
   ]
  },
  {
   "cell_type": "markdown",
   "metadata": {},
   "source": [
    "## ENTROPY-max_depth=14,min_sample_split=5,min_sample_leaf=4(TEST)"
   ]
  },
  {
   "cell_type": "code",
   "execution_count": 53,
   "metadata": {},
   "outputs": [
    {
     "data": {
      "text/plain": [
       "0.8883"
      ]
     },
     "execution_count": 53,
     "metadata": {},
     "output_type": "execute_result"
    }
   ],
   "source": [
    "Dtree=tree.DecisionTreeClassifier(max_depth=14, random_state=0, criterion='entropy', min_samples_split=5, min_samples_leaf=4)\n",
    "Dtree.fit(d_input,d_label)\n",
    "Dtree.score(test_input,test_label)"
   ]
  },
  {
   "cell_type": "markdown",
   "metadata": {},
   "source": [
    "# K_FOLD crsoos validation for CART Descision Tree"
   ]
  },
  {
   "cell_type": "markdown",
   "metadata": {},
   "source": [
    "## (1) On GINI criterion "
   ]
  },
  {
   "cell_type": "markdown",
   "metadata": {},
   "source": [
    "### Varying max_depth"
   ]
  },
  {
   "cell_type": "code",
   "execution_count": 7,
   "metadata": {},
   "outputs": [],
   "source": [
    "kfold=KFold(n_splits=5, shuffle=False, random_state=None)\n",
    "kfold.get_n_splits=(d_input,d_label)"
   ]
  },
  {
   "cell_type": "code",
   "execution_count": 8,
   "metadata": {},
   "outputs": [],
   "source": [
    "maxScore=[]\n",
    "max_depth=[]\n",
    "for train_index, cv_index in kfold.split(d_input,d_label):\n",
    "    max_s=0\n",
    "    max_d=-1\n",
    "    X_train,X_cv = d_input[train_index],d_input[cv_index]\n",
    "    Y_train,Y_cv=d_label[train_index], d_label[cv_index]\n",
    "    for i in range(5,36):\n",
    "        Dtree=tree.DecisionTreeClassifier(max_depth=i,random_state=0)\n",
    "        Dtree.fit(X_train,Y_train)\n",
    "        score=Dtree.score(X_cv,Y_cv)\n",
    "        if(score>max_s):\n",
    "            max_s=score\n",
    "            max_d=i\n",
    "    maxScore.append(max_s)\n",
    "    max_depth.append(max_d)"
   ]
  },
  {
   "cell_type": "code",
   "execution_count": 9,
   "metadata": {},
   "outputs": [
    {
     "data": {
      "text/plain": [
       "[0.8748333333333334,\n",
       " 0.8681666666666666,\n",
       " 0.8675,\n",
       " 0.8670833333333333,\n",
       " 0.8806666666666667]"
      ]
     },
     "execution_count": 9,
     "metadata": {},
     "output_type": "execute_result"
    }
   ],
   "source": [
    "maxScore"
   ]
  },
  {
   "cell_type": "code",
   "execution_count": 10,
   "metadata": {},
   "outputs": [
    {
     "data": {
      "text/plain": [
       "[15, 13, 28, 16, 16]"
      ]
     },
     "execution_count": 10,
     "metadata": {},
     "output_type": "execute_result"
    }
   ],
   "source": [
    "max_depth"
   ]
  },
  {
   "cell_type": "code",
   "execution_count": 11,
   "metadata": {},
   "outputs": [
    {
     "data": {
      "text/plain": [
       "DecisionTreeClassifier(class_weight=None, criterion='gini', max_depth=16,\n",
       "            max_features=None, max_leaf_nodes=None,\n",
       "            min_impurity_decrease=0.0, min_impurity_split=None,\n",
       "            min_samples_leaf=1, min_samples_split=2,\n",
       "            min_weight_fraction_leaf=0.0, presort=False, random_state=0,\n",
       "            splitter='best')"
      ]
     },
     "execution_count": 11,
     "metadata": {},
     "output_type": "execute_result"
    }
   ],
   "source": [
    "Dtree=tree.DecisionTreeClassifier(max_depth=16, random_state=0)\n",
    "Dtree.fit(d_input,d_label)"
   ]
  },
  {
   "cell_type": "code",
   "execution_count": 12,
   "metadata": {},
   "outputs": [
    {
     "data": {
      "text/plain": [
       "0.8816"
      ]
     },
     "execution_count": 12,
     "metadata": {},
     "output_type": "execute_result"
    }
   ],
   "source": [
    "Dtree.score(test_input,test_label)"
   ]
  },
  {
   "cell_type": "code",
   "execution_count": 15,
   "metadata": {},
   "outputs": [],
   "source": [
    "importance=Dtree.feature_importances_"
   ]
  },
  {
   "cell_type": "code",
   "execution_count": 20,
   "metadata": {},
   "outputs": [
    {
     "data": {
      "text/plain": [
       "0.0"
      ]
     },
     "execution_count": 20,
     "metadata": {},
     "output_type": "execute_result"
    }
   ],
   "source": [
    "importance.min()"
   ]
  },
  {
   "cell_type": "code",
   "execution_count": null,
   "metadata": {},
   "outputs": [],
   "source": []
  }
 ],
 "metadata": {
  "kernelspec": {
   "display_name": "Python 3",
   "language": "python",
   "name": "python3"
  },
  "language_info": {
   "codemirror_mode": {
    "name": "ipython",
    "version": 3
   },
   "file_extension": ".py",
   "mimetype": "text/x-python",
   "name": "python",
   "nbconvert_exporter": "python",
   "pygments_lexer": "ipython3",
   "version": "3.7.0"
  }
 },
 "nbformat": 4,
 "nbformat_minor": 2
}
