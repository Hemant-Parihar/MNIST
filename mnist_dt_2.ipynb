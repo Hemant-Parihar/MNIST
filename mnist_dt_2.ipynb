{
 "cells": [
  {
   "cell_type": "code",
   "execution_count": 1,
   "metadata": {},
   "outputs": [],
   "source": [
    "import numpy as np"
   ]
  },
  {
   "cell_type": "code",
   "execution_count": 2,
   "metadata": {},
   "outputs": [],
   "source": [
    "from sklearn import tree\n",
    "from sklearn.model_selection import KFold \n",
    "from sklearn.model_selection import train_test_split\n",
    "from sklearn.metrics import accuracy_score\n",
    "from sklearn.metrics import classification_report"
   ]
  },
  {
   "cell_type": "code",
   "execution_count": 3,
   "metadata": {},
   "outputs": [],
   "source": [
    "import matplotlib.pyplot as plt"
   ]
  },
  {
   "cell_type": "code",
   "execution_count": 4,
   "metadata": {},
   "outputs": [],
   "source": [
    "def find(a,k):\n",
    "    for i in a:\n",
    "        if(i==k):\n",
    "            return 1\n",
    "    return 0"
   ]
  },
  {
   "cell_type": "code",
   "execution_count": 5,
   "metadata": {},
   "outputs": [],
   "source": [
    "data=np.genfromtxt('mnist_train.csv',delimiter=',')\n",
    "test=np.genfromtxt('mnist_test.csv',delimiter=',')\n",
    "data_input=data[:,1:]\n",
    "data_label=data[:,0]\n",
    "test_input=test[:,1:]\n",
    "test_label=test[:,0]"
   ]
  },
  {
   "cell_type": "markdown",
   "metadata": {},
   "source": [
    "## 5-fold cross validation for max_depth parameter"
   ]
  },
  {
   "cell_type": "code",
   "execution_count": 6,
   "metadata": {},
   "outputs": [],
   "source": [
    "# 5-fold on DT of sklearn CART\n",
    "importance_list=[]\n",
    "score_list=[]\n",
    "kfold=KFold(n_splits=5, shuffle=False, random_state=None)\n",
    "for train_index, cv_index in kfold.split(data_input,data_label):\n",
    "    X_train,X_cv = data_input[train_index],data_input[cv_index]\n",
    "    Y_train,Y_cv=data_label[train_index], data_label[cv_index]\n",
    "    score=[]\n",
    "    importance=[]\n",
    "    for i in range(1,41):\n",
    "        Dtree=tree.DecisionTreeClassifier(max_depth=i,random_state=0)\n",
    "        Dtree.fit(X_train,Y_train)\n",
    "        importance.append(Dtree.feature_importances_)\n",
    "        score.append(Dtree.score(X_cv,Y_cv))\n",
    "    importance_list.append(importance)\n",
    "    score_list.append(score)"
   ]
  },
  {
   "cell_type": "code",
   "execution_count": 7,
   "metadata": {},
   "outputs": [
    {
     "data": {
      "text/plain": [
       "[<matplotlib.lines.Line2D at 0x1d713a954e0>]"
      ]
     },
     "execution_count": 7,
     "metadata": {},
     "output_type": "execute_result"
    },
    {
     "data": {
      "image/png": "[encoded data removed]",
      "text/plain": [
       "<Figure size 432x288 with 1 Axes>"
      ]
     },
     "metadata": {
      "needs_background": "light"
     },
     "output_type": "display_data"
    }
   ],
   "source": [
    "score_list_avg=np.array(score_list).mean(axis=0)\n",
    "max_depth_index=np.arange(40)\n",
    "plt.plot(max_depth_index,score_list_avg)"
   ]
  },
  {
   "cell_type": "code",
   "execution_count": 8,
   "metadata": {},
   "outputs": [],
   "source": [
    "# Average importance of feature\n",
    "importance_list_array=np.array(importance_list)\n",
    "importance_avg=np.zeros([importance_list_array.shape[1],importance_list_array.shape[2]])\n",
    "div=importance_list_array.shape[0]\n",
    "for i in range(importance_list_array.shape[1]):\n",
    "    sum=importance_list_array[0][i]\n",
    "    for j in range (1,importance_list_array.shape[0]):\n",
    "        sum=np.add(sum,importance_list_array[j][i])\n",
    "    importance_avg[i]=sum/div  "
   ]
  },
  {
   "cell_type": "code",
   "execution_count": 9,
   "metadata": {},
   "outputs": [
    {
     "data": {
      "text/plain": [
       "<matplotlib.image.AxesImage at 0x1d7130c6048>"
      ]
     },
     "execution_count": 9,
     "metadata": {},
     "output_type": "execute_result"
    },
    {
     "data": {
      "image/png": "[encoded data removed]",
      "text/plain": [
       "<Figure size 432x288 with 1 Axes>"
      ]
     },
     "metadata": {
      "needs_background": "light"
     },
     "output_type": "display_data"
    }
   ],
   "source": [
    "#averaged importance of features at max_depth=score_list_avg.max()\n",
    "plt.imshow(importance_avg[score_list_avg.argmax()].reshape(28,28))"
   ]
  },
  {
   "cell_type": "code",
   "execution_count": 11,
   "metadata": {},
   "outputs": [
    {
     "name": "stdout",
     "output_type": "stream",
     "text": [
      "[36 14 22 20 31 30 21 34 27 19]\n",
      "[12 19 15 17 16 13 21 14 20 22]\n",
      "[27 19 18 31 14 29 22 13 28 15]\n",
      "[15 19 16 21 23 12 18 13 24 30]\n",
      "[15 31 14 21 16 39 20 23 17 18]\n",
      "Averaged over 5 iterations most accurate max_depth =15 with average accuracy of 0.8705\n"
     ]
    }
   ],
   "source": [
    "max_10=np.full((5,10),-1)\n",
    "for  i in range(max_10.shape[0]):\n",
    "    for j in range(max_10.shape[1]):\n",
    "        maximum=0\n",
    "        for l in range(np.size(score_list[i])):\n",
    "            if(score_list[i][l]>=score_list[i][maximum] and find(max_10[i],l)==0):\n",
    "                maximum=l\n",
    "        max_10[i][j]=maximum\n",
    "\n",
    "        \n",
    "#printing top ten max_depth at each iteration of croos validation\n",
    "for i in max_10:\n",
    "    print(i)    \n",
    "print('Averaged over 5 iterations most accurate max_depth =' + str(score_list_avg.argmax()) +' with average accuracy of '+str(score_list_avg.max()))"
   ]
  },
  {
   "cell_type": "code",
   "execution_count": 12,
   "metadata": {},
   "outputs": [
    {
     "name": "stdout",
     "output_type": "stream",
     "text": [
      "tree max depth- 36\n",
      "             precision    recall  f1-score   support\n",
      "\n",
      "    digit-0       0.91      0.93      0.92       980\n",
      "    digit-1       0.95      0.97      0.96      1135\n",
      "    digit-2       0.86      0.85      0.85      1032\n",
      "    digit-3       0.83      0.86      0.84      1010\n",
      "    digit-4       0.87      0.87      0.87       982\n",
      "    digit-5       0.84      0.84      0.84       892\n",
      "    digit-6       0.90      0.88      0.89       958\n",
      "    digit-7       0.91      0.91      0.91      1028\n",
      "    digit-8       0.83      0.81      0.82       974\n",
      "    digit-9       0.86      0.85      0.86      1009\n",
      "\n",
      "avg / total       0.88      0.88      0.88     10000\n",
      "\n",
      "tree max depth- 12\n",
      "             precision    recall  f1-score   support\n",
      "\n",
      "    digit-0       0.92      0.94      0.93       980\n",
      "    digit-1       0.95      0.96      0.96      1135\n",
      "    digit-2       0.87      0.85      0.86      1032\n",
      "    digit-3       0.82      0.86      0.84      1010\n",
      "    digit-4       0.88      0.85      0.87       982\n",
      "    digit-5       0.84      0.83      0.84       892\n",
      "    digit-6       0.89      0.89      0.89       958\n",
      "    digit-7       0.92      0.90      0.91      1028\n",
      "    digit-8       0.83      0.81      0.82       974\n",
      "    digit-9       0.83      0.87      0.85      1009\n",
      "\n",
      "avg / total       0.88      0.88      0.88     10000\n",
      "\n",
      "tree max depth- 27\n",
      "             precision    recall  f1-score   support\n",
      "\n",
      "    digit-0       0.91      0.93      0.92       980\n",
      "    digit-1       0.95      0.97      0.96      1135\n",
      "    digit-2       0.88      0.85      0.87      1032\n",
      "    digit-3       0.82      0.85      0.83      1010\n",
      "    digit-4       0.86      0.88      0.87       982\n",
      "    digit-5       0.84      0.83      0.84       892\n",
      "    digit-6       0.91      0.88      0.90       958\n",
      "    digit-7       0.91      0.91      0.91      1028\n",
      "    digit-8       0.84      0.81      0.82       974\n",
      "    digit-9       0.85      0.86      0.85      1009\n",
      "\n",
      "avg / total       0.88      0.88      0.88     10000\n",
      "\n",
      "tree max depth- 15\n",
      "             precision    recall  f1-score   support\n",
      "\n",
      "    digit-0       0.91      0.94      0.93       980\n",
      "    digit-1       0.95      0.97      0.96      1135\n",
      "    digit-2       0.88      0.86      0.87      1032\n",
      "    digit-3       0.84      0.87      0.85      1010\n",
      "    digit-4       0.88      0.87      0.88       982\n",
      "    digit-5       0.83      0.84      0.84       892\n",
      "    digit-6       0.89      0.88      0.89       958\n",
      "    digit-7       0.93      0.91      0.92      1028\n",
      "    digit-8       0.83      0.81      0.82       974\n",
      "    digit-9       0.85      0.86      0.86      1009\n",
      "\n",
      "avg / total       0.88      0.88      0.88     10000\n",
      "\n",
      "tree max depth- 15\n",
      "             precision    recall  f1-score   support\n",
      "\n",
      "    digit-0       0.91      0.94      0.93       980\n",
      "    digit-1       0.95      0.97      0.96      1135\n",
      "    digit-2       0.88      0.86      0.87      1032\n",
      "    digit-3       0.84      0.87      0.85      1010\n",
      "    digit-4       0.88      0.87      0.88       982\n",
      "    digit-5       0.83      0.84      0.84       892\n",
      "    digit-6       0.89      0.88      0.89       958\n",
      "    digit-7       0.93      0.91      0.92      1028\n",
      "    digit-8       0.83      0.81      0.82       974\n",
      "    digit-9       0.85      0.86      0.86      1009\n",
      "\n",
      "avg / total       0.88      0.88      0.88     10000\n",
      "\n"
     ]
    }
   ],
   "source": [
    "#performance metric over complete Train and Test data with max_depth from top 5 of the cross validation iterations\n",
    "label_name=['digit-0','digit-1','digit-2','digit-3','digit-4','digit-5','digit-6','digit-7','digit-8','digit-9']\n",
    "for i in range(max_10.shape[0]):\n",
    "    Dtree=tree.DecisionTreeClassifier(max_depth=max_10[i][0],random_state=0)\n",
    "    Dtree.fit(data_input,data_label)\n",
    "    prediction=Dtree.predict(test_input)\n",
    "    print('tree max depth- '+ str(max_10[i][0]))\n",
    "    print(classification_report(test_label,prediction, target_names=label_name))"
   ]
  },
  {
   "cell_type": "markdown",
   "metadata": {},
   "source": [
    "## Note- above shows that some classes are easy to classify"
   ]
  },
  {
   "cell_type": "code",
   "execution_count": 23,
   "metadata": {},
   "outputs": [],
   "source": [
    "# 5-fold on DT of sklearn CART\n",
    "# importance_list_5fold=[]\n",
    "# score_list_5fold=[]\n",
    "# kfold=KFold(n_splits=5, shuffle=False, random_state=None)\n",
    "# for train_index, cv_index in kfold.split(data_input,data_label):\n",
    "#     X_train,X_cv = data_input[train_index],data_input[cv_index]\n",
    "#     Y_train,Y_cv=data_label[train_index], data_label[cv_index]\n",
    "#     score=[]\n",
    "#     for i in range(1,41):\n",
    "#         Dtree=tree.DecisionTreeClassifier(max_depth=i,random_state=0)\n",
    "#         Dtree.fit(X_train,Y_train)\n",
    "#         importance=Dtree.feature_importances_\n",
    "#         score.append(Dtree.score(X_cv,Y_cv))\n",
    "#         importance_list_5fold.append(importance)\n",
    "#     score_list_5fold.append(score)"
   ]
  },
  {
   "cell_type": "code",
   "execution_count": null,
   "metadata": {},
   "outputs": [],
   "source": []
  }
 ],
 "metadata": {
  "kernelspec": {
   "display_name": "Python 3",
   "language": "python",
   "name": "python3"
  },
  "language_info": {
   "codemirror_mode": {
    "name": "ipython",
    "version": 3
   },
   "file_extension": ".py",
   "mimetype": "text/x-python",
   "name": "python",
   "nbconvert_exporter": "python",
   "pygments_lexer": "ipython3",
   "version": "3.7.0"
  }
 },
 "nbformat": 4,
 "nbformat_minor": 2
}
