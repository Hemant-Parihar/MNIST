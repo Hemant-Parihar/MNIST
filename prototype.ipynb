{
 "cells": [
  {
   "cell_type": "code",
   "execution_count": 1,
   "metadata": {},
   "outputs": [],
   "source": [
    "import numpy as np\n",
    "import pandas as pd\n",
    "import matplotlib.pyplot as plt"
   ]
  },
  {
   "cell_type": "code",
   "execution_count": 2,
   "metadata": {},
   "outputs": [],
   "source": [
    "data=pd.read_csv('train.csv')\n",
    "test_data=pd.read_csv('test.csv')"
   ]
  },
  {
   "cell_type": "code",
   "execution_count": 3,
   "metadata": {},
   "outputs": [],
   "source": [
    "#print(data.head(5))\n",
    "labels=data['label']\n",
    "#print(labels)\n",
    "given_data=data.drop(\"label\",axis=1)"
   ]
  },
  {
   "cell_type": "code",
   "execution_count": 4,
   "metadata": {},
   "outputs": [],
   "source": [
    "#print(labels.shape)\n",
    "#print(given_data.shape)"
   ]
  },
  {
   "cell_type": "code",
   "execution_count": 5,
   "metadata": {},
   "outputs": [
    {
     "data": {
      "image/png": "[encoded data removed]",
      "text/plain": [
       "<Figure size 504x504 with 1 Axes>"
      ]
     },
     "metadata": {},
     "output_type": "display_data"
    }
   ],
   "source": [
    "plt.figure(figsize=(7,7))\n",
    "index= 150\n",
    "\n",
    "griddata=np.asmatrix((given_data.iloc[index]).values).reshape(28,28)\n",
    "#gd=np.mat(given_data.iloc[index])\n",
    "#print()\n",
    "plt.imshow(griddata,interpolation=\"none\",cmap=\"gray\")\n",
    "plt.show()\n",
    "\n",
    "#print(labels[index])"
   ]
  },
  {
   "cell_type": "code",
   "execution_count": 6,
   "metadata": {
    "scrolled": true
   },
   "outputs": [],
   "source": [
    "#print(given_data.mean(axis=0))\n",
    "mean_data = data.groupby('label', as_index=False).mean()\n",
    "#print(mean_data)\n",
    "mean_data=mean_data.drop(\"label\",axis=1)\n",
    "#print(mean_data)"
   ]
  },
  {
   "cell_type": "code",
   "execution_count": 7,
   "metadata": {},
   "outputs": [
    {
     "name": "stdout",
     "output_type": "stream",
     "text": [
      "3790583.4484192505 0\n",
      "3287164.0971866907 1\n",
      "3512355.1009395765 2\n",
      "2327953.197376384 3\n",
      "4251059.812694678 4\n",
      "2676057.3787513217 5\n",
      "3274757.092648577 6\n",
      "3723463.7669787095 7\n",
      "3298113.7781361234 8\n",
      "3993317.0629058303 9\n"
     ]
    }
   ],
   "source": [
    "cnt=0\n",
    "min_dist=0\n",
    "curr_label=0\n",
    "for index1, row1 in mean_data.iterrows():\n",
    "    #print(row1.shape)\n",
    "    #print(((given_data.iloc[index]).values).shape)\n",
    "    current_dist=(row1-(given_data.iloc[index]).values).dot((row1-(given_data.iloc[index]).values).T)\n",
    "    print(current_dist,index1)\n",
    "    if(cnt==0):\n",
    "        curr_label=index1\n",
    "        min_dist=current_dist\n",
    "    else:\n",
    "        if(current_dist<min_dist):\n",
    "            curr_label=index1\n",
    "            min_dist=current_dist\n",
    "    \n",
    "    cnt+=1\n",
    "#print(curr_label)     "
   ]
  },
  {
   "cell_type": "code",
   "execution_count": 8,
   "metadata": {},
   "outputs": [],
   "source": [
    "df = pd.DataFrame(columns=['ImageId','Label'])\n",
    "\n",
    "#df = df.append({'ImageId': 1, 'Label': 9}, ignore_index=True)\n",
    "#df = df.append({'ImageId': 1, 'Label': 9}, ignore_index=True)\n",
    "#print(df)"
   ]
  },
  {
   "cell_type": "code",
   "execution_count": 9,
   "metadata": {},
   "outputs": [],
   "source": [
    "cnt=0\n",
    "\n",
    "for index, row in test_data.iterrows():\n",
    "    cnt=0\n",
    "    min_dist=0\n",
    "    curr_label=0\n",
    "    for index1, row1 in mean_data.iterrows():\n",
    "        #print(row1.shape)\n",
    "        #print(((given_data.iloc[index]).values).shape)\n",
    "        current_dist=(row1-row).dot((row1-row).T)\n",
    "        #print(current_dist,index1)\n",
    "        if(cnt==0):\n",
    "            curr_label=index1\n",
    "            min_dist=current_dist\n",
    "        else:\n",
    "            if(current_dist<min_dist):\n",
    "                curr_label=index1\n",
    "                min_dist=current_dist\n",
    "        cnt+=1\n",
    "    df = df.append({'ImageId': index+1, 'Label': curr_label}, ignore_index=True)\n",
    "    #print(index+1,curr_label)\n",
    "df.to_csv('testResult', encoding='utf-8', index=False)            \n",
    "#print(test_data.shape)"
   ]
  },
  {
   "cell_type": "code",
   "execution_count": null,
   "metadata": {},
   "outputs": [],
   "source": []
  }
 ],
 "metadata": {
  "kernelspec": {
   "display_name": "Python 3",
   "language": "python",
   "name": "python3"
  },
  "language_info": {
   "codemirror_mode": {
    "name": "ipython",
    "version": 3
   },
   "file_extension": ".py",
   "mimetype": "text/x-python",
   "name": "python",
   "nbconvert_exporter": "python",
   "pygments_lexer": "ipython3",
   "version": "3.6.5"
  }
 },
 "nbformat": 4,
 "nbformat_minor": 2
}
